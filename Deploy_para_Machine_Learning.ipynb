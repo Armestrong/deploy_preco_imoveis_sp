{
  "nbformat": 4,
  "nbformat_minor": 0,
  "metadata": {
    "colab": {
      "name": "Copy of Deploy para Machine Learning.ipynb",
      "provenance": [],
      "collapsed_sections": [],
      "toc_visible": true,
      "include_colab_link": true
    },
    "kernelspec": {
      "name": "python3",
      "display_name": "Python 3"
    }
  },
  "cells": [
    {
      "cell_type": "markdown",
      "metadata": {
        "id": "view-in-github",
        "colab_type": "text"
      },
      "source": [
        "<a href=\"https://colab.research.google.com/github/Armestrong/deploy_preco_imoveis_sp/blob/master/Deploy_para_Machine_Learning.ipynb\" target=\"_parent\"><img src=\"https://colab.research.google.com/assets/colab-badge.svg\" alt=\"Open In Colab\"/></a>"
      ]
    },
    {
      "cell_type": "markdown",
      "metadata": {
        "id": "KRu9cWstM1JO",
        "colab_type": "text"
      },
      "source": [
        "# Preço de Imóveis em São Paulo\n",
        "\n",
        "Neste módulo, iremos treinar um modelo para fazer a previsão do preço de venda de apartamentos na cidade de São Paulo e usar esse modelo para alimentar uma aplicação web mediante *deploy*.\n",
        "\n",
        "Como o objetivo é focar na construção do *webapp* e em como subir uma aplicação, a etapa da análise exploratória será suprimida (feita anteriormente por mim).\n",
        "\n",
        "Como identifiquei as colunas desnecessárias e redundantes, irei direto ao ponto do treinamento, visando mostrar principalmente como exportar e importar o modelo com a biblioteca `pickle`."
      ]
    },
    {
      "cell_type": "markdown",
      "metadata": {
        "id": "8Ez_ESvSN3gt",
        "colab_type": "text"
      },
      "source": [
        "## Dados de Imóveis\n",
        "\n",
        "Os dados usados aqui foram obtidos [neste link](https://www.kaggle.com/argonalyst/sao-paulo-real-estate-sale-rent-april-2019), e foram disponibilizados publicamente pela startup OpenImob.\n",
        "\n",
        "Quero ressaltar aqui que este banco de dados contém poucas *features* comparado com tudo que seria possível, além de só representar os imóveis para o mês de abril de 2019.\n",
        "\n",
        "Para facilitar seu projeto, disponibilizei o arquivo `csv` [neste link](https://www.dropbox.com/s/h8blgaphkfpqsn5/sao-paulo-properties-april-2019.csv?dl=1), a partir do meu Dropbox."
      ]
    },
    {
      "cell_type": "markdown",
      "metadata": {
        "id": "13sz9oVQPC0F",
        "colab_type": "text"
      },
      "source": [
        "## Análise e Tratamento dos Dados\n",
        "\n",
        "Os dados originais contém 13.640 entradas e 16 colunas, sendo a coluna `Price` a nossa variável alvo."
      ]
    },
    {
      "cell_type": "code",
      "metadata": {
        "id": "5jJCCF3AA0NZ",
        "colab_type": "code",
        "outputId": "26a7433c-f9ec-484f-c2c5-219f82d594ec",
        "colab": {
          "base_uri": "https://localhost:8080/",
          "height": 204
        }
      },
      "source": [
        "# importar os pacotes necessários\n",
        "import pandas as pd\n",
        "import numpy as np\n",
        "import matplotlib.pyplot as plt\n",
        "from xgboost import XGBRegressor\n",
        "import xgboost as xgb\n",
        "from sklearn.model_selection import train_test_split\n",
        "from sklearn.metrics import r2_score, mean_squared_error, mean_absolute_error\n",
        "from sklearn.preprocessing import LabelEncoder\n",
        "from sklearn import preprocessing \n",
        "\n",
        "import warnings\n",
        "warnings.simplefilter(action='ignore', category=FutureWarning)\n",
        "\n",
        "# importar o dataset para um dataframe\n",
        "url_dataset = \"https://www.dropbox.com/s/h8blgaphkfpqsn5/sao-paulo-properties-april-2019.csv?dl=1\"\n",
        "df = pd.read_csv(url_dataset)\n",
        "\n",
        "# ver as 5 primeiras entradas\n",
        "display(df.head())"
      ],
      "execution_count": 0,
      "outputs": [
        {
          "output_type": "display_data",
          "data": {
            "text/html": [
              "<div>\n",
              "<style scoped>\n",
              "    .dataframe tbody tr th:only-of-type {\n",
              "        vertical-align: middle;\n",
              "    }\n",
              "\n",
              "    .dataframe tbody tr th {\n",
              "        vertical-align: top;\n",
              "    }\n",
              "\n",
              "    .dataframe thead th {\n",
              "        text-align: right;\n",
              "    }\n",
              "</style>\n",
              "<table border=\"1\" class=\"dataframe\">\n",
              "  <thead>\n",
              "    <tr style=\"text-align: right;\">\n",
              "      <th></th>\n",
              "      <th>Price</th>\n",
              "      <th>Condo</th>\n",
              "      <th>Size</th>\n",
              "      <th>Rooms</th>\n",
              "      <th>Toilets</th>\n",
              "      <th>Suites</th>\n",
              "      <th>Parking</th>\n",
              "      <th>Elevator</th>\n",
              "      <th>Furnished</th>\n",
              "      <th>Swimming Pool</th>\n",
              "      <th>New</th>\n",
              "      <th>District</th>\n",
              "      <th>Negotiation Type</th>\n",
              "      <th>Property Type</th>\n",
              "      <th>Latitude</th>\n",
              "      <th>Longitude</th>\n",
              "    </tr>\n",
              "  </thead>\n",
              "  <tbody>\n",
              "    <tr>\n",
              "      <th>0</th>\n",
              "      <td>930</td>\n",
              "      <td>220</td>\n",
              "      <td>47</td>\n",
              "      <td>2</td>\n",
              "      <td>2</td>\n",
              "      <td>1</td>\n",
              "      <td>1</td>\n",
              "      <td>0</td>\n",
              "      <td>0</td>\n",
              "      <td>0</td>\n",
              "      <td>0</td>\n",
              "      <td>Artur Alvim/São Paulo</td>\n",
              "      <td>rent</td>\n",
              "      <td>apartment</td>\n",
              "      <td>-23.543138</td>\n",
              "      <td>-46.479486</td>\n",
              "    </tr>\n",
              "    <tr>\n",
              "      <th>1</th>\n",
              "      <td>1000</td>\n",
              "      <td>148</td>\n",
              "      <td>45</td>\n",
              "      <td>2</td>\n",
              "      <td>2</td>\n",
              "      <td>1</td>\n",
              "      <td>1</td>\n",
              "      <td>0</td>\n",
              "      <td>0</td>\n",
              "      <td>0</td>\n",
              "      <td>0</td>\n",
              "      <td>Artur Alvim/São Paulo</td>\n",
              "      <td>rent</td>\n",
              "      <td>apartment</td>\n",
              "      <td>-23.550239</td>\n",
              "      <td>-46.480718</td>\n",
              "    </tr>\n",
              "    <tr>\n",
              "      <th>2</th>\n",
              "      <td>1000</td>\n",
              "      <td>100</td>\n",
              "      <td>48</td>\n",
              "      <td>2</td>\n",
              "      <td>2</td>\n",
              "      <td>1</td>\n",
              "      <td>1</td>\n",
              "      <td>0</td>\n",
              "      <td>0</td>\n",
              "      <td>0</td>\n",
              "      <td>0</td>\n",
              "      <td>Artur Alvim/São Paulo</td>\n",
              "      <td>rent</td>\n",
              "      <td>apartment</td>\n",
              "      <td>-23.542818</td>\n",
              "      <td>-46.485665</td>\n",
              "    </tr>\n",
              "    <tr>\n",
              "      <th>3</th>\n",
              "      <td>1000</td>\n",
              "      <td>200</td>\n",
              "      <td>48</td>\n",
              "      <td>2</td>\n",
              "      <td>2</td>\n",
              "      <td>1</td>\n",
              "      <td>1</td>\n",
              "      <td>0</td>\n",
              "      <td>0</td>\n",
              "      <td>0</td>\n",
              "      <td>0</td>\n",
              "      <td>Artur Alvim/São Paulo</td>\n",
              "      <td>rent</td>\n",
              "      <td>apartment</td>\n",
              "      <td>-23.547171</td>\n",
              "      <td>-46.483014</td>\n",
              "    </tr>\n",
              "    <tr>\n",
              "      <th>4</th>\n",
              "      <td>1300</td>\n",
              "      <td>410</td>\n",
              "      <td>55</td>\n",
              "      <td>2</td>\n",
              "      <td>2</td>\n",
              "      <td>1</td>\n",
              "      <td>1</td>\n",
              "      <td>1</td>\n",
              "      <td>0</td>\n",
              "      <td>0</td>\n",
              "      <td>0</td>\n",
              "      <td>Artur Alvim/São Paulo</td>\n",
              "      <td>rent</td>\n",
              "      <td>apartment</td>\n",
              "      <td>-23.525025</td>\n",
              "      <td>-46.482436</td>\n",
              "    </tr>\n",
              "  </tbody>\n",
              "</table>\n",
              "</div>"
            ],
            "text/plain": [
              "   Price  Condo  Size  ...  Property Type   Latitude  Longitude\n",
              "0    930    220    47  ...      apartment -23.543138 -46.479486\n",
              "1   1000    148    45  ...      apartment -23.550239 -46.480718\n",
              "2   1000    100    48  ...      apartment -23.542818 -46.485665\n",
              "3   1000    200    48  ...      apartment -23.547171 -46.483014\n",
              "4   1300    410    55  ...      apartment -23.525025 -46.482436\n",
              "\n",
              "[5 rows x 16 columns]"
            ]
          },
          "metadata": {
            "tags": []
          }
        }
      ]
    },
    {
      "cell_type": "markdown",
      "metadata": {
        "id": "0tF-uuoYJ_vC",
        "colab_type": "text"
      },
      "source": [
        "Para fazer a limpeza, clonei o *dataframe* original e eliminei as colunas `['Property Type', 'Latitude', 'Longitude']`.\n",
        "\n",
        "Se você também reparar acima, os nomes dos bairros tinham uma informação desnecessária para este *dataset* específico, acrescentando a *string* `\"/São Paulo\"` ao final de cara nome. Usando `df_clean['District'].apply(lambda x: x.split('/')[0]` eu simplesmente removi essa informação e deixei mais limpa a coluna.\n",
        "\n",
        "Se você explorar melhor esse *dataset* vai ver que ele contempla duas situações: aluguel ou venda. Neste projeto, iremos trabalhar exclusivamente com os casos de venda, ou seja, apenas quando `df_clean['Negotiation Type'] == 'sale'`."
      ]
    },
    {
      "cell_type": "code",
      "metadata": {
        "id": "PxRgqNtNWBoH",
        "colab_type": "code",
        "colab": {}
      },
      "source": [
        ""
      ],
      "execution_count": 0,
      "outputs": []
    },
    {
      "cell_type": "code",
      "metadata": {
        "id": "JODK2rPXiu7K",
        "colab_type": "code",
        "colab": {}
      },
      "source": [
        "lista_bairros"
      ],
      "execution_count": 0,
      "outputs": []
    },
    {
      "cell_type": "code",
      "metadata": {
        "id": "GrFRJqENBBjg",
        "colab_type": "code",
        "outputId": "e54348c5-4401-40df-8c1c-107a8f2a0488",
        "colab": {
          "base_uri": "https://localhost:8080/",
          "height": 204
        }
      },
      "source": [
        "df_clean = df.copy()\n",
        "\n",
        "# Limpar os nomes do bairros\n",
        "df_clean['District'] = (df_clean['District'].apply(lambda x: x.split('/')[0]))\n",
        "\n",
        "# excluir as colunas 'Latitude', 'Longitude' e 'Property Type'\n",
        "df_clean.drop(['Property Type', 'Latitude', 'Longitude'], axis=1, inplace=True)\n",
        "\n",
        "# extrair apenas as entradas onde df_clean['Negotiation Type'] == 'sale'\n",
        "df_sale = df_clean[df_clean['Negotiation Type'] == 'sale'].copy()\n",
        "df_sale.drop(['Negotiation Type'], axis=1, inplace=True)\n",
        "\n",
        "# ver as 5 primeiras entradas\n",
        "df_sale.head()"
      ],
      "execution_count": 0,
      "outputs": [
        {
          "output_type": "execute_result",
          "data": {
            "text/html": [
              "<div>\n",
              "<style scoped>\n",
              "    .dataframe tbody tr th:only-of-type {\n",
              "        vertical-align: middle;\n",
              "    }\n",
              "\n",
              "    .dataframe tbody tr th {\n",
              "        vertical-align: top;\n",
              "    }\n",
              "\n",
              "    .dataframe thead th {\n",
              "        text-align: right;\n",
              "    }\n",
              "</style>\n",
              "<table border=\"1\" class=\"dataframe\">\n",
              "  <thead>\n",
              "    <tr style=\"text-align: right;\">\n",
              "      <th></th>\n",
              "      <th>Price</th>\n",
              "      <th>Condo</th>\n",
              "      <th>Size</th>\n",
              "      <th>Rooms</th>\n",
              "      <th>Toilets</th>\n",
              "      <th>Suites</th>\n",
              "      <th>Parking</th>\n",
              "      <th>Elevator</th>\n",
              "      <th>Furnished</th>\n",
              "      <th>Swimming Pool</th>\n",
              "      <th>New</th>\n",
              "      <th>District</th>\n",
              "    </tr>\n",
              "  </thead>\n",
              "  <tbody>\n",
              "    <tr>\n",
              "      <th>4901</th>\n",
              "      <td>732600</td>\n",
              "      <td>1000</td>\n",
              "      <td>74</td>\n",
              "      <td>1</td>\n",
              "      <td>2</td>\n",
              "      <td>1</td>\n",
              "      <td>2</td>\n",
              "      <td>1</td>\n",
              "      <td>0</td>\n",
              "      <td>1</td>\n",
              "      <td>0</td>\n",
              "      <td>Vila Madalena</td>\n",
              "    </tr>\n",
              "    <tr>\n",
              "      <th>4902</th>\n",
              "      <td>1990000</td>\n",
              "      <td>2400</td>\n",
              "      <td>164</td>\n",
              "      <td>4</td>\n",
              "      <td>5</td>\n",
              "      <td>2</td>\n",
              "      <td>3</td>\n",
              "      <td>1</td>\n",
              "      <td>1</td>\n",
              "      <td>1</td>\n",
              "      <td>0</td>\n",
              "      <td>Vila Madalena</td>\n",
              "    </tr>\n",
              "    <tr>\n",
              "      <th>4903</th>\n",
              "      <td>720000</td>\n",
              "      <td>700</td>\n",
              "      <td>70</td>\n",
              "      <td>2</td>\n",
              "      <td>2</td>\n",
              "      <td>1</td>\n",
              "      <td>1</td>\n",
              "      <td>1</td>\n",
              "      <td>0</td>\n",
              "      <td>1</td>\n",
              "      <td>1</td>\n",
              "      <td>Vila Madalena</td>\n",
              "    </tr>\n",
              "    <tr>\n",
              "      <th>4904</th>\n",
              "      <td>1680000</td>\n",
              "      <td>1580</td>\n",
              "      <td>155</td>\n",
              "      <td>3</td>\n",
              "      <td>5</td>\n",
              "      <td>3</td>\n",
              "      <td>2</td>\n",
              "      <td>1</td>\n",
              "      <td>0</td>\n",
              "      <td>1</td>\n",
              "      <td>0</td>\n",
              "      <td>Vila Madalena</td>\n",
              "    </tr>\n",
              "    <tr>\n",
              "      <th>4905</th>\n",
              "      <td>1200000</td>\n",
              "      <td>900</td>\n",
              "      <td>56</td>\n",
              "      <td>2</td>\n",
              "      <td>2</td>\n",
              "      <td>1</td>\n",
              "      <td>2</td>\n",
              "      <td>0</td>\n",
              "      <td>1</td>\n",
              "      <td>1</td>\n",
              "      <td>0</td>\n",
              "      <td>Vila Madalena</td>\n",
              "    </tr>\n",
              "  </tbody>\n",
              "</table>\n",
              "</div>"
            ],
            "text/plain": [
              "        Price  Condo  Size  Rooms  ...  Furnished  Swimming Pool  New       District\n",
              "4901   732600   1000    74      1  ...          0              1    0  Vila Madalena\n",
              "4902  1990000   2400   164      4  ...          1              1    0  Vila Madalena\n",
              "4903   720000    700    70      2  ...          0              1    1  Vila Madalena\n",
              "4904  1680000   1580   155      3  ...          0              1    0  Vila Madalena\n",
              "4905  1200000    900    56      2  ...          1              1    0  Vila Madalena\n",
              "\n",
              "[5 rows x 12 columns]"
            ]
          },
          "metadata": {
            "tags": []
          },
          "execution_count": 2
        }
      ]
    },
    {
      "cell_type": "code",
      "metadata": {
        "id": "TXmgawhPYPAU",
        "colab_type": "code",
        "colab": {}
      },
      "source": [
        "lista_bairros = df_clean['District'].apply(lambda x: x.split('/')[0])\n",
        "lista_bairros = sorted(lista_bairros.unique())\n"
      ],
      "execution_count": 0,
      "outputs": []
    },
    {
      "cell_type": "markdown",
      "metadata": {
        "id": "92GQuh86K7R-",
        "colab_type": "text"
      },
      "source": [
        "## Modelo de Machine Learning\n",
        "\n",
        "### Versão Simplificada\n",
        "\n",
        "Seguindo o que foi explicado nas aulas e visando **focar no processo** (e não em um projeto específicamente), vou criar um modelo simplificado de *machine learning*, que usará apenas as 4 *features* numéricas `['Condo', 'Size', 'Rooms', 'Suites']`.\n",
        "\n",
        "Arbitrariamente, escolhi o modelo XGBoost para treinar meu modelo e observei três principais métricas de avaliação - apesar de saber das limitações do *dataset* e do modelo simplificado."
      ]
    },
    {
      "cell_type": "code",
      "metadata": {
        "id": "q0AgMlCag2Zn",
        "colab_type": "code",
        "colab": {}
      },
      "source": [
        ""
      ],
      "execution_count": 0,
      "outputs": []
    },
    {
      "cell_type": "code",
      "metadata": {
        "id": "K_t3WsRZLB7E",
        "colab_type": "code",
        "colab": {}
      },
      "source": [
        "# metodo de conversao 1\n",
        "df_sale.District = df_sale.District.astype('category')\n",
        "df_sale.District = df_sale.District.cat.codes\n"
      ],
      "execution_count": 0,
      "outputs": []
    },
    {
      "cell_type": "code",
      "metadata": {
        "id": "iCTlBed4JFuN",
        "colab_type": "code",
        "colab": {}
      },
      "source": [
        "##### encoding coluna distrito ###\n",
        "labelencoder = LabelEncoder()\n",
        "df_sale.District = labelencoder.fit_transform(df_sale.District)\n"
      ],
      "execution_count": 0,
      "outputs": []
    },
    {
      "cell_type": "code",
      "metadata": {
        "id": "cxZi9t4vLCLy",
        "colab_type": "code",
        "outputId": "ceab2ed6-d7eb-42a5-e96c-f9e8e221f444",
        "colab": {
          "base_uri": "https://localhost:8080/",
          "height": 68
        }
      },
      "source": [
        "\n",
        "# separar entre variáveis X e y\n",
        "X_simp = df_sale[['Condo', 'Size', 'Rooms','Toilets', 'Suites','Parking','Elevator','Furnished','Swimming Pool','New','District']]\n",
        "y_simp = df_sale['Price']\n",
        "\n",
        "#############################\n",
        "data_dmatrix = xgb.DMatrix(data=X_simp,label=y_simp)\n",
        "\n",
        "# split entre datasets de treino e teste\n",
        "X_train_simp, X_test_simp, y_train_simp, y_test_simp = train_test_split(X_simp, y_simp, test_size=0.33)\n",
        "\n",
        "# instanciar e treinar o modelo\n",
        "model_simp = XGBRegressor(random_state=42, silent=True)\n",
        "model_simp.fit( X_train_simp, y_train_simp)\n",
        "\n",
        "\n",
        "# fazer as previsões em cima do dataset de teste\n",
        "y_pred_simp = model_simp.predict(X_test_simp)\n",
        "\n",
        "# métricas de avaliação\n",
        "print(\"r2: \\t{:.4f}\".format(r2_score(y_test_simp, y_pred_simp)))\n",
        "print(\"MAE: \\t{:.4f}\".format(mean_absolute_error(y_test_simp, y_pred_simp)))\n",
        "print(\"MSE: \\t{:.4f}\".format(mean_squared_error(y_test_simp, y_pred_simp)))"
      ],
      "execution_count": 0,
      "outputs": [
        {
          "output_type": "stream",
          "text": [
            "r2: \t0.8091\n",
            "MAE: \t141040.5923\n",
            "MSE: \t91221798887.4329\n"
          ],
          "name": "stdout"
        }
      ]
    },
    {
      "cell_type": "code",
      "metadata": {
        "id": "00XAd0hGGVxW",
        "colab_type": "code",
        "colab": {}
      },
      "source": [
        "model_simp"
      ],
      "execution_count": 0,
      "outputs": []
    },
    {
      "cell_type": "markdown",
      "metadata": {
        "id": "XHgUJdXHLCCS",
        "colab_type": "text"
      },
      "source": [
        "#### Salvando o modelo\n",
        "\n",
        "O nosso modelo está treinado e é capaz de realizar previsões. No entanto, está \"preso\" ao *kernel* rodando dentro do Google Colab.\n",
        "\n",
        "Imagine precisar rodar todas as células novamente a cada vez que fosse fazer uma previsão. Seria inviável!\n",
        "\n",
        "Para conseguir exportar o modelo de *machine learning* (na verdade, isso pode ser feito com qualquer estrutura de dados) vou usar a biblioteca `pickle`. Abaixo, eu salvo dentro do arquivo `modelo_simples.pkl` o modelo treinado que foi atribuido à variável `model_simp`.\n",
        "\n",
        "obs: O arquivo `modelo_simples.pkl` precisa ser salvo em `modelo_simples.json` pois se vc estiver usando sua maquina virtual tipo eu que uso Visual Studio, ele requer que vc user `.json` caso o contrario, o arquivo não renderizado.\n",
        "\n",
        "https://xgboost.readthedocs.io/en/latest/tutorials/saving_model.html"
      ]
    },
    {
      "cell_type": "code",
      "metadata": {
        "id": "lQPD9gwv1raJ",
        "colab_type": "code",
        "outputId": "b1f6b0bb-5556-4818-fab7-963789f8a73c",
        "colab": {
          "base_uri": "https://localhost:8080/",
          "height": 419
        }
      },
      "source": [
        "display(X_train_simp)"
      ],
      "execution_count": 0,
      "outputs": [
        {
          "output_type": "display_data",
          "data": {
            "text/html": [
              "<div>\n",
              "<style scoped>\n",
              "    .dataframe tbody tr th:only-of-type {\n",
              "        vertical-align: middle;\n",
              "    }\n",
              "\n",
              "    .dataframe tbody tr th {\n",
              "        vertical-align: top;\n",
              "    }\n",
              "\n",
              "    .dataframe thead th {\n",
              "        text-align: right;\n",
              "    }\n",
              "</style>\n",
              "<table border=\"1\" class=\"dataframe\">\n",
              "  <thead>\n",
              "    <tr style=\"text-align: right;\">\n",
              "      <th></th>\n",
              "      <th>Condo</th>\n",
              "      <th>Size</th>\n",
              "      <th>Rooms</th>\n",
              "      <th>Toilets</th>\n",
              "      <th>Suites</th>\n",
              "      <th>Parking</th>\n",
              "      <th>Elevator</th>\n",
              "      <th>Furnished</th>\n",
              "      <th>Swimming Pool</th>\n",
              "      <th>New</th>\n",
              "      <th>District</th>\n",
              "    </tr>\n",
              "  </thead>\n",
              "  <tbody>\n",
              "    <tr>\n",
              "      <th>12375</th>\n",
              "      <td>0</td>\n",
              "      <td>110</td>\n",
              "      <td>3</td>\n",
              "      <td>2</td>\n",
              "      <td>1</td>\n",
              "      <td>2</td>\n",
              "      <td>0</td>\n",
              "      <td>0</td>\n",
              "      <td>1</td>\n",
              "      <td>0</td>\n",
              "      <td>85</td>\n",
              "    </tr>\n",
              "    <tr>\n",
              "      <th>12429</th>\n",
              "      <td>380</td>\n",
              "      <td>58</td>\n",
              "      <td>3</td>\n",
              "      <td>2</td>\n",
              "      <td>1</td>\n",
              "      <td>1</td>\n",
              "      <td>0</td>\n",
              "      <td>0</td>\n",
              "      <td>1</td>\n",
              "      <td>0</td>\n",
              "      <td>50</td>\n",
              "    </tr>\n",
              "    <tr>\n",
              "      <th>6243</th>\n",
              "      <td>519</td>\n",
              "      <td>55</td>\n",
              "      <td>2</td>\n",
              "      <td>2</td>\n",
              "      <td>1</td>\n",
              "      <td>1</td>\n",
              "      <td>0</td>\n",
              "      <td>0</td>\n",
              "      <td>1</td>\n",
              "      <td>0</td>\n",
              "      <td>27</td>\n",
              "    </tr>\n",
              "    <tr>\n",
              "      <th>7222</th>\n",
              "      <td>293</td>\n",
              "      <td>60</td>\n",
              "      <td>2</td>\n",
              "      <td>2</td>\n",
              "      <td>1</td>\n",
              "      <td>1</td>\n",
              "      <td>0</td>\n",
              "      <td>0</td>\n",
              "      <td>0</td>\n",
              "      <td>0</td>\n",
              "      <td>42</td>\n",
              "    </tr>\n",
              "    <tr>\n",
              "      <th>7574</th>\n",
              "      <td>1512</td>\n",
              "      <td>90</td>\n",
              "      <td>3</td>\n",
              "      <td>3</td>\n",
              "      <td>1</td>\n",
              "      <td>1</td>\n",
              "      <td>1</td>\n",
              "      <td>0</td>\n",
              "      <td>0</td>\n",
              "      <td>0</td>\n",
              "      <td>90</td>\n",
              "    </tr>\n",
              "    <tr>\n",
              "      <th>...</th>\n",
              "      <td>...</td>\n",
              "      <td>...</td>\n",
              "      <td>...</td>\n",
              "      <td>...</td>\n",
              "      <td>...</td>\n",
              "      <td>...</td>\n",
              "      <td>...</td>\n",
              "      <td>...</td>\n",
              "      <td>...</td>\n",
              "      <td>...</td>\n",
              "      <td>...</td>\n",
              "    </tr>\n",
              "    <tr>\n",
              "      <th>7637</th>\n",
              "      <td>0</td>\n",
              "      <td>266</td>\n",
              "      <td>4</td>\n",
              "      <td>5</td>\n",
              "      <td>4</td>\n",
              "      <td>4</td>\n",
              "      <td>1</td>\n",
              "      <td>0</td>\n",
              "      <td>0</td>\n",
              "      <td>0</td>\n",
              "      <td>1</td>\n",
              "    </tr>\n",
              "    <tr>\n",
              "      <th>7262</th>\n",
              "      <td>360</td>\n",
              "      <td>52</td>\n",
              "      <td>2</td>\n",
              "      <td>2</td>\n",
              "      <td>1</td>\n",
              "      <td>1</td>\n",
              "      <td>0</td>\n",
              "      <td>0</td>\n",
              "      <td>0</td>\n",
              "      <td>0</td>\n",
              "      <td>41</td>\n",
              "    </tr>\n",
              "    <tr>\n",
              "      <th>6161</th>\n",
              "      <td>400</td>\n",
              "      <td>68</td>\n",
              "      <td>2</td>\n",
              "      <td>2</td>\n",
              "      <td>1</td>\n",
              "      <td>2</td>\n",
              "      <td>1</td>\n",
              "      <td>0</td>\n",
              "      <td>1</td>\n",
              "      <td>1</td>\n",
              "      <td>19</td>\n",
              "    </tr>\n",
              "    <tr>\n",
              "      <th>12622</th>\n",
              "      <td>400</td>\n",
              "      <td>49</td>\n",
              "      <td>2</td>\n",
              "      <td>1</td>\n",
              "      <td>0</td>\n",
              "      <td>1</td>\n",
              "      <td>1</td>\n",
              "      <td>0</td>\n",
              "      <td>0</td>\n",
              "      <td>0</td>\n",
              "      <td>17</td>\n",
              "    </tr>\n",
              "    <tr>\n",
              "      <th>7635</th>\n",
              "      <td>658</td>\n",
              "      <td>80</td>\n",
              "      <td>3</td>\n",
              "      <td>2</td>\n",
              "      <td>1</td>\n",
              "      <td>2</td>\n",
              "      <td>1</td>\n",
              "      <td>0</td>\n",
              "      <td>1</td>\n",
              "      <td>0</td>\n",
              "      <td>1</td>\n",
              "    </tr>\n",
              "  </tbody>\n",
              "</table>\n",
              "<p>4296 rows × 11 columns</p>\n",
              "</div>"
            ],
            "text/plain": [
              "       Condo  Size  Rooms  Toilets  ...  Furnished  Swimming Pool  New  District\n",
              "12375      0   110      3        2  ...          0              1    0        85\n",
              "12429    380    58      3        2  ...          0              1    0        50\n",
              "6243     519    55      2        2  ...          0              1    0        27\n",
              "7222     293    60      2        2  ...          0              0    0        42\n",
              "7574    1512    90      3        3  ...          0              0    0        90\n",
              "...      ...   ...    ...      ...  ...        ...            ...  ...       ...\n",
              "7637       0   266      4        5  ...          0              0    0         1\n",
              "7262     360    52      2        2  ...          0              0    0        41\n",
              "6161     400    68      2        2  ...          0              1    1        19\n",
              "12622    400    49      2        1  ...          0              0    0        17\n",
              "7635     658    80      3        2  ...          0              1    0         1\n",
              "\n",
              "[4296 rows x 11 columns]"
            ]
          },
          "metadata": {
            "tags": []
          }
        }
      ]
    },
    {
      "cell_type": "code",
      "metadata": {
        "id": "nGuz0uo5hvpL",
        "colab_type": "code",
        "colab": {}
      },
      "source": [
        "# salvar o modelo em formato pkl\n",
        "import pickle\n",
        "\n",
        "with open('modelo_simples.pkl', 'wb') as file:\n",
        "    pickle.dump(model_simp, file)\n",
        "\n"
      ],
      "execution_count": 0,
      "outputs": []
    },
    {
      "cell_type": "markdown",
      "metadata": {
        "id": "PYRuu04LSZc0",
        "colab_type": "text"
      },
      "source": [
        "Uma vez que você exporta o seu modelo, é extremamente importante que você também salve os nomes das *features* que esse modelo espera receber, e tem que ser na ordem exata que ele foi treinado.\n",
        "\n",
        "Da mesma maneira que fizemos com o modelo, salvei os nomes das variáveis em `features_simples.names`."
      ]
    },
    {
      "cell_type": "code",
      "metadata": {
        "id": "0BsloEx5W-Ht",
        "colab_type": "code",
        "colab": {}
      },
      "source": [
        "#Salvar numeros dos bairros\n",
        "lista_nr_bairros = labelencoder.fit_transform(lista_bairros)"
      ],
      "execution_count": 0,
      "outputs": []
    },
    {
      "cell_type": "code",
      "metadata": {
        "id": "i41vom-jN4Jl",
        "colab_type": "code",
        "colab": {}
      },
      "source": [
        "# arquivo de nomes de bairros & numeros em seguencia\n",
        "with open('lista_bairros.names', 'wb') as file:\n",
        "  pickle.dump(lista_bairros, file)\n",
        "with open('lista_bairros_nr.names', 'wb') as file:\n",
        "  pickle.dump(lista_nr_bairros, file)"
      ],
      "execution_count": 0,
      "outputs": []
    },
    {
      "cell_type": "code",
      "metadata": {
        "id": "ucpN9BKEOk-P",
        "colab_type": "code",
        "colab": {}
      },
      "source": [
        "# salvar os nomes das features do modelo simples\n",
        "features_simples = X_train_simp.columns.values\n",
        "with open('features_simples.names', 'wb') as file:\n",
        "    pickle.dump(features_simples, file)\n"
      ],
      "execution_count": 0,
      "outputs": []
    },
    {
      "cell_type": "code",
      "metadata": {
        "id": "5sGVA0FlXhaU",
        "colab_type": "code",
        "outputId": "f80ff669-6bc1-43d0-848e-2d8775e07c64",
        "colab": {
          "base_uri": "https://localhost:8080/",
          "height": 68
        }
      },
      "source": [
        "features_simples"
      ],
      "execution_count": 0,
      "outputs": [
        {
          "output_type": "execute_result",
          "data": {
            "text/plain": [
              "array(['Condo', 'Size', 'Rooms', 'Toilets', 'Suites', 'Parking',\n",
              "       'Elevator', 'Furnished', 'Swimming Pool', 'New', 'District'],\n",
              "      dtype=object)"
            ]
          },
          "metadata": {
            "tags": []
          },
          "execution_count": 13
        }
      ]
    },
    {
      "cell_type": "markdown",
      "metadata": {
        "id": "uTXtHIbiM02R",
        "colab_type": "text"
      },
      "source": [
        "#### Carregando o modelo\n",
        "\n",
        "Uma vez que você salvou o modelo em um arquivo, consegue carregar ele novamente usando o `pickle.load()`"
      ]
    },
    {
      "cell_type": "code",
      "metadata": {
        "id": "k844oTqtePWv",
        "colab_type": "code",
        "colab": {}
      },
      "source": [
        "# importar modelo e feature names\n",
        "with open('/content/modelo_simples.pkl', 'rb') as file:\n",
        "    modelo_simples = pickle.load(file)\n",
        "with open('/content/features_simples.names', 'rb') as file:\n",
        "    features_names = pickle.load(file)\n",
        "with open('/content/lista_bairros.names', 'rb') as file:\n",
        "    lista_bairros = pickle.load(file)\n",
        "with open('/content/lista_bairros_nr.names', 'rb') as file:\n",
        "    lista_nr_bairros = pickle.load(file)"
      ],
      "execution_count": 0,
      "outputs": []
    },
    {
      "cell_type": "code",
      "metadata": {
        "id": "-ascr_kfi9ea",
        "colab_type": "code",
        "outputId": "bdfd4d50-7838-4e97-9275-14e78675950b",
        "colab": {
          "base_uri": "https://localhost:8080/",
          "height": 34
        }
      },
      "source": [
        "# ver o tipo da nova variável\n",
        "type(modelo_simples)"
      ],
      "execution_count": 0,
      "outputs": [
        {
          "output_type": "execute_result",
          "data": {
            "text/plain": [
              "xgboost.sklearn.XGBRegressor"
            ]
          },
          "metadata": {
            "tags": []
          },
          "execution_count": 15
        }
      ]
    },
    {
      "cell_type": "markdown",
      "metadata": {
        "id": "OGQMCmRIGq9B",
        "colab_type": "text"
      },
      "source": [
        "#### Transformando inputs em Dataframes\n",
        "\n",
        "Você já consegue extrair os valores, mas para poder passar esses valores no modelo é necessário transformá-los em um Dataframe.\n"
      ]
    },
    {
      "cell_type": "code",
      "metadata": {
        "id": "i4_ZyOfIHI2_",
        "colab_type": "code",
        "colab": {}
      },
      "source": [
        "# input do usuário\n",
        "user_inputs = {\n",
        "    'Condo':\"123\", 'Size':\"122\", 'Rooms':\"1\", 'Toilets':\"1\", 'Suites':\"1\", 'Parking':\"1\",\n",
        "       'Elevator':\"0\", 'Furnished':\"1\", 'Swimming Pool':\"1\", 'New':\"1\", 'District':\"1\"\n",
        "}"
      ],
      "execution_count": 0,
      "outputs": []
    },
    {
      "cell_type": "code",
      "metadata": {
        "id": "a2W-BgiYwI08",
        "colab_type": "code",
        "colab": {}
      },
      "source": [
        "# input para dataframe (em branco)\n",
        "df = pd.DataFrame(index=[0], columns=features_names)\n",
        "df = df.fillna(value=0)\n",
        "\n",
        "for i in user_inputs.items():\n",
        "    df[i[0]] = i[1]\n",
        "    \n",
        "df = df.astype(float)"
      ],
      "execution_count": 0,
      "outputs": []
    },
    {
      "cell_type": "markdown",
      "metadata": {
        "id": "6_jwGYTgKwJx",
        "colab_type": "text"
      },
      "source": [
        "Agora é só fazer a previsão com o novo Dataframe."
      ]
    },
    {
      "cell_type": "code",
      "metadata": {
        "id": "NWRja3YmLHC9",
        "colab_type": "code",
        "colab": {}
      },
      "source": [
        "y_pred = modelo_simples.predict(df)[0]"
      ],
      "execution_count": 0,
      "outputs": []
    },
    {
      "cell_type": "code",
      "metadata": {
        "id": "GUcX_ZUh28rA",
        "colab_type": "code",
        "outputId": "a0f33bd6-5392-4159-9b96-79bdef2d25fe",
        "colab": {
          "base_uri": "https://localhost:8080/",
          "height": 51
        }
      },
      "source": [
        "print(features_simples)"
      ],
      "execution_count": 0,
      "outputs": [
        {
          "output_type": "stream",
          "text": [
            "['Condo' 'Size' 'Rooms' 'Toilets' 'Suites' 'Parking' 'Elevator'\n",
            " 'Furnished' 'Swimming Pool' 'New' 'District']\n"
          ],
          "name": "stdout"
        }
      ]
    },
    {
      "cell_type": "code",
      "metadata": {
        "id": "ju7anw1gLvXR",
        "colab_type": "code",
        "outputId": "958bf582-89c1-4ab9-afb1-456749a69a58",
        "colab": {
          "base_uri": "https://localhost:8080/",
          "height": 119
        }
      },
      "source": [
        "lista_nr_bairros"
      ],
      "execution_count": 0,
      "outputs": [
        {
          "output_type": "execute_result",
          "data": {
            "text/plain": [
              "array([ 0,  1,  2,  3,  4,  5,  6,  7,  8,  9, 10, 11, 12, 13, 14, 15, 16,\n",
              "       17, 18, 19, 20, 21, 22, 23, 24, 25, 26, 27, 28, 29, 30, 31, 32, 33,\n",
              "       34, 35, 36, 37, 38, 39, 40, 41, 42, 43, 44, 45, 46, 47, 48, 49, 50,\n",
              "       51, 52, 53, 54, 55, 56, 57, 58, 59, 60, 61, 62, 63, 64, 65, 66, 67,\n",
              "       68, 69, 70, 71, 72, 73, 74, 75, 76, 77, 78, 79, 80, 81, 82, 83, 84,\n",
              "       85, 86, 87, 88, 89, 90, 91, 92, 93, 94, 95])"
            ]
          },
          "metadata": {
            "tags": []
          },
          "execution_count": 284
        }
      ]
    },
    {
      "cell_type": "code",
      "metadata": {
        "id": "jWPtgJzm2B7d",
        "colab_type": "code",
        "colab": {}
      },
      "source": [
        ""
      ],
      "execution_count": 0,
      "outputs": []
    },
    {
      "cell_type": "code",
      "metadata": {
        "id": "2ZyCvG8E3DYB",
        "colab_type": "code",
        "colab": {}
      },
      "source": [
        "#PROVAVELMENTE PARA ARRUMAR O ERRO QUE DA NA NOVA VERSAO DO XGBOOST"
      ],
      "execution_count": 0,
      "outputs": []
    },
    {
      "cell_type": "code",
      "metadata": {
        "id": "YrWPbVgY2-cC",
        "colab_type": "code",
        "colab": {}
      },
      "source": [
        "model_simp.save_model('mlo.pkl')"
      ],
      "execution_count": 0,
      "outputs": []
    },
    {
      "cell_type": "code",
      "metadata": {
        "id": "j8lTS3um3Bux",
        "colab_type": "code",
        "colab": {}
      },
      "source": [
        "# instanciar novamente o modelo\n",
        "ml = XGBRegressor()\n",
        "ml.load_model('/content/mlo.pkl')"
      ],
      "execution_count": 0,
      "outputs": []
    }
  ]
}